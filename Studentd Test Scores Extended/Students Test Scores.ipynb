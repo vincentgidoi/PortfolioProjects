{
 "cells": [
  {
   "cell_type": "code",
   "execution_count": 1,
   "id": "f5e4e5a0",
   "metadata": {},
   "outputs": [],
   "source": [
    "# Import libraries\n",
    "import pandas as pd\n",
    "import numpy as np\n",
    "import seaborn as sns\n",
    "\n",
    "import matplotlib.pyplot as plt\n",
    "import matplotlib.mlab as mlab\n",
    "import matplotlib\n",
    "plt.style.use('ggplot')\n",
    "from matplotlib.pyplot import figure\n",
    "\n",
    "%matplotlib inline\n",
    "matplotlib.rcParams['figure.figsize'] = (12,8)"
   ]
  },
  {
   "cell_type": "code",
   "execution_count": 2,
   "id": "1ed729ec",
   "metadata": {},
   "outputs": [],
   "source": [
    "#read in the data\n",
    "df =pd.read_csv('StudentsTestScores.csv')"
   ]
  },
  {
   "cell_type": "code",
   "execution_count": 3,
   "id": "15526859",
   "metadata": {},
   "outputs": [
    {
     "data": {
      "text/html": [
       "<div>\n",
       "<style scoped>\n",
       "    .dataframe tbody tr th:only-of-type {\n",
       "        vertical-align: middle;\n",
       "    }\n",
       "\n",
       "    .dataframe tbody tr th {\n",
       "        vertical-align: top;\n",
       "    }\n",
       "\n",
       "    .dataframe thead th {\n",
       "        text-align: right;\n",
       "    }\n",
       "</style>\n",
       "<table border=\"1\" class=\"dataframe\">\n",
       "  <thead>\n",
       "    <tr style=\"text-align: right;\">\n",
       "      <th></th>\n",
       "      <th>Unnamed: 0</th>\n",
       "      <th>Gender</th>\n",
       "      <th>EthnicGroup</th>\n",
       "      <th>ParentEduc</th>\n",
       "      <th>LunchType</th>\n",
       "      <th>TestPrep</th>\n",
       "      <th>ParentMaritalStatus</th>\n",
       "      <th>PracticeSport</th>\n",
       "      <th>IsFirstChild</th>\n",
       "      <th>NrSiblings</th>\n",
       "      <th>TransportMeans</th>\n",
       "      <th>WklyStudyHours</th>\n",
       "      <th>MathScore</th>\n",
       "      <th>ReadingScore</th>\n",
       "      <th>WritingScore</th>\n",
       "    </tr>\n",
       "  </thead>\n",
       "  <tbody>\n",
       "    <tr>\n",
       "      <th>0</th>\n",
       "      <td>0</td>\n",
       "      <td>female</td>\n",
       "      <td>NaN</td>\n",
       "      <td>bachelor's degree</td>\n",
       "      <td>standard</td>\n",
       "      <td>none</td>\n",
       "      <td>married</td>\n",
       "      <td>regularly</td>\n",
       "      <td>yes</td>\n",
       "      <td>3.0</td>\n",
       "      <td>school_bus</td>\n",
       "      <td>&lt; 5</td>\n",
       "      <td>71</td>\n",
       "      <td>71</td>\n",
       "      <td>74</td>\n",
       "    </tr>\n",
       "    <tr>\n",
       "      <th>1</th>\n",
       "      <td>1</td>\n",
       "      <td>female</td>\n",
       "      <td>group C</td>\n",
       "      <td>some college</td>\n",
       "      <td>standard</td>\n",
       "      <td>NaN</td>\n",
       "      <td>married</td>\n",
       "      <td>sometimes</td>\n",
       "      <td>yes</td>\n",
       "      <td>0.0</td>\n",
       "      <td>NaN</td>\n",
       "      <td>5-10</td>\n",
       "      <td>69</td>\n",
       "      <td>90</td>\n",
       "      <td>88</td>\n",
       "    </tr>\n",
       "    <tr>\n",
       "      <th>2</th>\n",
       "      <td>2</td>\n",
       "      <td>female</td>\n",
       "      <td>group B</td>\n",
       "      <td>master's degree</td>\n",
       "      <td>standard</td>\n",
       "      <td>none</td>\n",
       "      <td>single</td>\n",
       "      <td>sometimes</td>\n",
       "      <td>yes</td>\n",
       "      <td>4.0</td>\n",
       "      <td>school_bus</td>\n",
       "      <td>&lt; 5</td>\n",
       "      <td>87</td>\n",
       "      <td>93</td>\n",
       "      <td>91</td>\n",
       "    </tr>\n",
       "    <tr>\n",
       "      <th>3</th>\n",
       "      <td>3</td>\n",
       "      <td>male</td>\n",
       "      <td>group A</td>\n",
       "      <td>associate's degree</td>\n",
       "      <td>free/reduced</td>\n",
       "      <td>none</td>\n",
       "      <td>married</td>\n",
       "      <td>never</td>\n",
       "      <td>no</td>\n",
       "      <td>1.0</td>\n",
       "      <td>NaN</td>\n",
       "      <td>5-10</td>\n",
       "      <td>45</td>\n",
       "      <td>56</td>\n",
       "      <td>42</td>\n",
       "    </tr>\n",
       "    <tr>\n",
       "      <th>4</th>\n",
       "      <td>4</td>\n",
       "      <td>male</td>\n",
       "      <td>group C</td>\n",
       "      <td>some college</td>\n",
       "      <td>standard</td>\n",
       "      <td>none</td>\n",
       "      <td>married</td>\n",
       "      <td>sometimes</td>\n",
       "      <td>yes</td>\n",
       "      <td>0.0</td>\n",
       "      <td>school_bus</td>\n",
       "      <td>5-10</td>\n",
       "      <td>76</td>\n",
       "      <td>78</td>\n",
       "      <td>75</td>\n",
       "    </tr>\n",
       "  </tbody>\n",
       "</table>\n",
       "</div>"
      ],
      "text/plain": [
       "   Unnamed: 0  Gender EthnicGroup          ParentEduc     LunchType TestPrep  \\\n",
       "0           0  female         NaN   bachelor's degree      standard     none   \n",
       "1           1  female     group C        some college      standard      NaN   \n",
       "2           2  female     group B     master's degree      standard     none   \n",
       "3           3    male     group A  associate's degree  free/reduced     none   \n",
       "4           4    male     group C        some college      standard     none   \n",
       "\n",
       "  ParentMaritalStatus PracticeSport IsFirstChild  NrSiblings TransportMeans  \\\n",
       "0             married     regularly          yes         3.0     school_bus   \n",
       "1             married     sometimes          yes         0.0            NaN   \n",
       "2              single     sometimes          yes         4.0     school_bus   \n",
       "3             married         never           no         1.0            NaN   \n",
       "4             married     sometimes          yes         0.0     school_bus   \n",
       "\n",
       "  WklyStudyHours  MathScore  ReadingScore  WritingScore  \n",
       "0            < 5         71            71            74  \n",
       "1           5-10         69            90            88  \n",
       "2            < 5         87            93            91  \n",
       "3           5-10         45            56            42  \n",
       "4           5-10         76            78            75  "
      ]
     },
     "execution_count": 3,
     "metadata": {},
     "output_type": "execute_result"
    }
   ],
   "source": [
    "#to view top 5 rows of the data\n",
    "df.head()"
   ]
  },
  {
   "cell_type": "code",
   "execution_count": 4,
   "id": "053bb4d6",
   "metadata": {},
   "outputs": [],
   "source": [
    "#to channge the column names to lower case for easy typing column names\n",
    "df.columns = [x.lower() for x in df.columns]"
   ]
  },
  {
   "cell_type": "code",
   "execution_count": 5,
   "id": "dde0ec20",
   "metadata": {},
   "outputs": [],
   "source": [
    "#Drop columns not needed\n",
    "df.drop(['unnamed: 0'], axis = 1, inplace = True)"
   ]
  },
  {
   "cell_type": "code",
   "execution_count": 6,
   "id": "cfc82af4",
   "metadata": {},
   "outputs": [
    {
     "name": "stdout",
     "output_type": "stream",
     "text": [
      "<class 'pandas.core.frame.DataFrame'>\n",
      "RangeIndex: 30641 entries, 0 to 30640\n",
      "Data columns (total 14 columns):\n",
      " #   Column               Non-Null Count  Dtype  \n",
      "---  ------               --------------  -----  \n",
      " 0   gender               30641 non-null  object \n",
      " 1   ethnicgroup          28801 non-null  object \n",
      " 2   parenteduc           28796 non-null  object \n",
      " 3   lunchtype            30641 non-null  object \n",
      " 4   testprep             28811 non-null  object \n",
      " 5   parentmaritalstatus  29451 non-null  object \n",
      " 6   practicesport        30010 non-null  object \n",
      " 7   isfirstchild         29737 non-null  object \n",
      " 8   nrsiblings           29069 non-null  float64\n",
      " 9   transportmeans       27507 non-null  object \n",
      " 10  wklystudyhours       29686 non-null  object \n",
      " 11  mathscore            30641 non-null  int64  \n",
      " 12  readingscore         30641 non-null  int64  \n",
      " 13  writingscore         30641 non-null  int64  \n",
      "dtypes: float64(1), int64(3), object(10)\n",
      "memory usage: 3.3+ MB\n"
     ]
    }
   ],
   "source": [
    "#to check variables contained in the dataset\n",
    "df.info()"
   ]
  },
  {
   "cell_type": "code",
   "execution_count": 7,
   "id": "5a7304e8",
   "metadata": {},
   "outputs": [
    {
     "data": {
      "text/plain": [
       "Int64Dtype()"
      ]
     },
     "execution_count": 7,
     "metadata": {},
     "output_type": "execute_result"
    }
   ],
   "source": [
    "#nrsiblings has a wrong datatype\n",
    "df['nrsiblings'] = df['nrsiblings'].astype(pd.Int64Dtype())\n",
    "df['nrsiblings'].dtypes"
   ]
  },
  {
   "cell_type": "code",
   "execution_count": 8,
   "id": "8470496f",
   "metadata": {},
   "outputs": [
    {
     "data": {
      "text/plain": [
       "0"
      ]
     },
     "execution_count": 8,
     "metadata": {},
     "output_type": "execute_result"
    }
   ],
   "source": [
    "#To check duplicates\n",
    "df.duplicated().sum()"
   ]
  },
  {
   "cell_type": "code",
   "execution_count": 9,
   "id": "5e43bcc7",
   "metadata": {},
   "outputs": [
    {
     "data": {
      "text/plain": [
       "ethnicgroup            1840\n",
       "parenteduc             1845\n",
       "testprep               1830\n",
       "parentmaritalstatus    1190\n",
       "practicesport           631\n",
       "isfirstchild            904\n",
       "nrsiblings             1572\n",
       "transportmeans         3134\n",
       "wklystudyhours          955\n",
       "dtype: int64"
      ]
     },
     "execution_count": 9,
     "metadata": {},
     "output_type": "execute_result"
    }
   ],
   "source": [
    "#to only display column with missing values\n",
    "missing_df = df.isnull().sum(axis = 0)\n",
    "missing_df = missing_df[missing_df != 0]\n",
    "missing_df"
   ]
  },
  {
   "cell_type": "code",
   "execution_count": 10,
   "id": "1ddf6625",
   "metadata": {},
   "outputs": [],
   "source": [
    "#To clean our data - lots of null values. we will replace the null values with random options from the unique list of values in each column\n",
    "# we first clean the strin variables\n",
    "\n",
    "df['ethnicgroup'] = df['ethnicgroup'].fillna(np.random.choice(pd.Series(['group A', 'group B', 'group C', 'group D','group E'])))\n",
    "df['parenteduc'] = df['parenteduc'].fillna(np.random.choice(pd.Series(['some college', 'high school', 'associate\\'s degree', 'some high school','bachelor\\'s degree'])))\n",
    "df['testprep'] = df['testprep'].fillna(np.random.choice(pd.Series(['none', 'completed'])))\n",
    "df['parentmaritalstatus'] = df['parentmaritalstatus'].fillna(np.random.choice(pd.Series(['married', 'single', 'divorced', 'widowed' ])))\n",
    "df['practicesport'] = df['practicesport'].fillna(np.random.choice(pd.Series(['sometimes', 'regularly', 'never' ])))\n",
    "df['isfirstchild'] = df['isfirstchild'].fillna(np.random.choice(pd.Series(['TRUE', 'FALSE'])))\n",
    "df['transportmeans'] = df['transportmeans'].fillna(np.random.choice(pd.Series(['school_bus', 'private'])))\n",
    "df['wklystudyhours'] = df['wklystudyhours'].fillna(np.random.choice(pd.Series(['5-10', '< 5', '> 10'])))\n",
    "\n",
    "\n",
    "df.nrsiblings = df.nrsiblings.fillna(df.nrsiblings.median())"
   ]
  },
  {
   "cell_type": "code",
   "execution_count": 11,
   "id": "d629f341",
   "metadata": {},
   "outputs": [
    {
     "data": {
      "text/plain": [
       "Series([], dtype: int64)"
      ]
     },
     "execution_count": 11,
     "metadata": {},
     "output_type": "execute_result"
    }
   ],
   "source": [
    "#To check if we still have missing values\n",
    "missing_df = df.isnull().sum(axis = 0)\n",
    "missing_df = missing_df[missing_df != 0]\n",
    "missing_df"
   ]
  },
  {
   "cell_type": "code",
   "execution_count": 12,
   "id": "0b8c2217",
   "metadata": {},
   "outputs": [],
   "source": [
    "#Lets define a function that will display the desrptive statistics for the various columns\n",
    "#Given a dataFrame and the column name, this function calculates and returns two stats summary dataframes. \n",
    "# normalized value_counts of the categories in the given columns \n",
    "# sorted mean of the three test scores grouped by the categories in column  \n",
    "\n",
    "def display_stats(df, column):\n",
    "    val_cnt = df[column].value_counts().to_frame(name = column + ' (count)')\n",
    "    val_cnt_norm = df[column].value_counts(normalize=True).mul(100).to_frame(name = column + ' (%)')\n",
    "    \n",
    "    val_cnt_table = pd.concat([val_cnt, val_cnt_norm], axis=1)\n",
    "    \n",
    "    mean_score_summary = df.groupby([column])[['mathscore', 'readingscore', 'writingscore']]\\\n",
    "    .agg(np.mean).sort_values(by='mathscore', ascending=False)\n",
    "    \n",
    "    return display(val_cnt_table, mean_score_summary)"
   ]
  },
  {
   "cell_type": "code",
   "execution_count": 13,
   "id": "50557532",
   "metadata": {},
   "outputs": [
    {
     "data": {
      "text/html": [
       "<div>\n",
       "<style scoped>\n",
       "    .dataframe tbody tr th:only-of-type {\n",
       "        vertical-align: middle;\n",
       "    }\n",
       "\n",
       "    .dataframe tbody tr th {\n",
       "        vertical-align: top;\n",
       "    }\n",
       "\n",
       "    .dataframe thead th {\n",
       "        text-align: right;\n",
       "    }\n",
       "</style>\n",
       "<table border=\"1\" class=\"dataframe\">\n",
       "  <thead>\n",
       "    <tr style=\"text-align: right;\">\n",
       "      <th></th>\n",
       "      <th>mathscore</th>\n",
       "      <th>readingscore</th>\n",
       "      <th>writingscore</th>\n",
       "    </tr>\n",
       "  </thead>\n",
       "  <tbody>\n",
       "    <tr>\n",
       "      <th>mean</th>\n",
       "      <td>66.558402</td>\n",
       "      <td>69.377533</td>\n",
       "      <td>68.418622</td>\n",
       "    </tr>\n",
       "    <tr>\n",
       "      <th>std</th>\n",
       "      <td>15.361616</td>\n",
       "      <td>14.758952</td>\n",
       "      <td>15.443525</td>\n",
       "    </tr>\n",
       "    <tr>\n",
       "      <th>amax</th>\n",
       "      <td>100.000000</td>\n",
       "      <td>100.000000</td>\n",
       "      <td>100.000000</td>\n",
       "    </tr>\n",
       "    <tr>\n",
       "      <th>amin</th>\n",
       "      <td>0.000000</td>\n",
       "      <td>10.000000</td>\n",
       "      <td>4.000000</td>\n",
       "    </tr>\n",
       "  </tbody>\n",
       "</table>\n",
       "</div>"
      ],
      "text/plain": [
       "       mathscore  readingscore  writingscore\n",
       "mean   66.558402     69.377533     68.418622\n",
       "std    15.361616     14.758952     15.443525\n",
       "amax  100.000000    100.000000    100.000000\n",
       "amin    0.000000     10.000000      4.000000"
      ]
     },
     "execution_count": 13,
     "metadata": {},
     "output_type": "execute_result"
    }
   ],
   "source": [
    "#desciptive statistics for the scores in the 3 subjects\n",
    "df[['mathscore', 'readingscore', 'writingscore']].agg([np.mean, np.std, np.max, np.min])"
   ]
  },
  {
   "cell_type": "code",
   "execution_count": 14,
   "id": "cb6641ab",
   "metadata": {},
   "outputs": [
    {
     "data": {
      "image/png": "[encoded data removed]",
      "text/plain": [
       "<Figure size 1200x800 with 1 Axes>"
      ]
     },
     "metadata": {},
     "output_type": "display_data"
    }
   ],
   "source": [
    "#Distribution of gender\n",
    "sns.countplot(x = df['gender'])\n",
    "plt.title('Distribution of Students Gender');"
   ]
  },
  {
   "cell_type": "code",
   "execution_count": 15,
   "id": "4c809d5c",
   "metadata": {},
   "outputs": [
    {
     "data": {
      "text/html": [
       "<div>\n",
       "<style scoped>\n",
       "    .dataframe tbody tr th:only-of-type {\n",
       "        vertical-align: middle;\n",
       "    }\n",
       "\n",
       "    .dataframe tbody tr th {\n",
       "        vertical-align: top;\n",
       "    }\n",
       "\n",
       "    .dataframe thead th {\n",
       "        text-align: right;\n",
       "    }\n",
       "</style>\n",
       "<table border=\"1\" class=\"dataframe\">\n",
       "  <thead>\n",
       "    <tr style=\"text-align: right;\">\n",
       "      <th></th>\n",
       "      <th>mathscore</th>\n",
       "      <th>readingscore</th>\n",
       "      <th>writingscore</th>\n",
       "    </tr>\n",
       "    <tr>\n",
       "      <th>gender</th>\n",
       "      <th></th>\n",
       "      <th></th>\n",
       "      <th></th>\n",
       "    </tr>\n",
       "  </thead>\n",
       "  <tbody>\n",
       "    <tr>\n",
       "      <th>female</th>\n",
       "      <td>64.080654</td>\n",
       "      <td>72.853216</td>\n",
       "      <td>72.856457</td>\n",
       "    </tr>\n",
       "    <tr>\n",
       "      <th>male</th>\n",
       "      <td>69.069856</td>\n",
       "      <td>65.854571</td>\n",
       "      <td>63.920418</td>\n",
       "    </tr>\n",
       "  </tbody>\n",
       "</table>\n",
       "</div>"
      ],
      "text/plain": [
       "        mathscore  readingscore  writingscore\n",
       "gender                                       \n",
       "female  64.080654     72.853216     72.856457\n",
       "male    69.069856     65.854571     63.920418"
      ]
     },
     "execution_count": 15,
     "metadata": {},
     "output_type": "execute_result"
    }
   ],
   "source": [
    "#To check the distribution of performance of the 3 subjects by gender \n",
    "df.groupby(['gender'])[['mathscore', 'readingscore', 'writingscore']].agg(np.mean)"
   ]
  },
  {
   "cell_type": "code",
   "execution_count": 16,
   "id": "d3e050a6",
   "metadata": {},
   "outputs": [
    {
     "data": {
      "image/png": "[encoded data removed]",
      "text/plain": [
       "<Figure size 1200x800 with 1 Axes>"
      ]
     },
     "metadata": {},
     "output_type": "display_data"
    }
   ],
   "source": [
    "#Distibution of ethnicgroup\n",
    "\n",
    "sns.countplot(x = df['ethnicgroup'],  order=['group C', 'group D', 'group B', 'group E', 'group A'])\n",
    "plt.title('Distribution of Student Ethnicgroup');"
   ]
  },
  {
   "cell_type": "code",
   "execution_count": 17,
   "id": "30b4159d",
   "metadata": {},
   "outputs": [
    {
     "data": {
      "text/html": [
       "<div>\n",
       "<style scoped>\n",
       "    .dataframe tbody tr th:only-of-type {\n",
       "        vertical-align: middle;\n",
       "    }\n",
       "\n",
       "    .dataframe tbody tr th {\n",
       "        vertical-align: top;\n",
       "    }\n",
       "\n",
       "    .dataframe thead th {\n",
       "        text-align: right;\n",
       "    }\n",
       "</style>\n",
       "<table border=\"1\" class=\"dataframe\">\n",
       "  <thead>\n",
       "    <tr style=\"text-align: right;\">\n",
       "      <th></th>\n",
       "      <th>ethnicgroup (count)</th>\n",
       "      <th>ethnicgroup (%)</th>\n",
       "    </tr>\n",
       "  </thead>\n",
       "  <tbody>\n",
       "    <tr>\n",
       "      <th>group C</th>\n",
       "      <td>9212</td>\n",
       "      <td>30.064293</td>\n",
       "    </tr>\n",
       "    <tr>\n",
       "      <th>group B</th>\n",
       "      <td>7666</td>\n",
       "      <td>25.018766</td>\n",
       "    </tr>\n",
       "    <tr>\n",
       "      <th>group D</th>\n",
       "      <td>7503</td>\n",
       "      <td>24.486799</td>\n",
       "    </tr>\n",
       "    <tr>\n",
       "      <th>group E</th>\n",
       "      <td>4041</td>\n",
       "      <td>13.188212</td>\n",
       "    </tr>\n",
       "    <tr>\n",
       "      <th>group A</th>\n",
       "      <td>2219</td>\n",
       "      <td>7.241931</td>\n",
       "    </tr>\n",
       "  </tbody>\n",
       "</table>\n",
       "</div>"
      ],
      "text/plain": [
       "         ethnicgroup (count)  ethnicgroup (%)\n",
       "group C                 9212        30.064293\n",
       "group B                 7666        25.018766\n",
       "group D                 7503        24.486799\n",
       "group E                 4041        13.188212\n",
       "group A                 2219         7.241931"
      ]
     },
     "metadata": {},
     "output_type": "display_data"
    },
    {
     "data": {
      "text/html": [
       "<div>\n",
       "<style scoped>\n",
       "    .dataframe tbody tr th:only-of-type {\n",
       "        vertical-align: middle;\n",
       "    }\n",
       "\n",
       "    .dataframe tbody tr th {\n",
       "        vertical-align: top;\n",
       "    }\n",
       "\n",
       "    .dataframe thead th {\n",
       "        text-align: right;\n",
       "    }\n",
       "</style>\n",
       "<table border=\"1\" class=\"dataframe\">\n",
       "  <thead>\n",
       "    <tr style=\"text-align: right;\">\n",
       "      <th></th>\n",
       "      <th>mathscore</th>\n",
       "      <th>readingscore</th>\n",
       "      <th>writingscore</th>\n",
       "    </tr>\n",
       "    <tr>\n",
       "      <th>ethnicgroup</th>\n",
       "      <th></th>\n",
       "      <th></th>\n",
       "      <th></th>\n",
       "    </tr>\n",
       "  </thead>\n",
       "  <tbody>\n",
       "    <tr>\n",
       "      <th>group E</th>\n",
       "      <td>75.298936</td>\n",
       "      <td>74.251423</td>\n",
       "      <td>72.677060</td>\n",
       "    </tr>\n",
       "    <tr>\n",
       "      <th>group D</th>\n",
       "      <td>67.666400</td>\n",
       "      <td>70.382247</td>\n",
       "      <td>70.890844</td>\n",
       "    </tr>\n",
       "    <tr>\n",
       "      <th>group C</th>\n",
       "      <td>64.695723</td>\n",
       "      <td>68.438233</td>\n",
       "      <td>66.999240</td>\n",
       "    </tr>\n",
       "    <tr>\n",
       "      <th>group B</th>\n",
       "      <td>64.137229</td>\n",
       "      <td>67.703366</td>\n",
       "      <td>66.376468</td>\n",
       "    </tr>\n",
       "    <tr>\n",
       "      <th>group A</th>\n",
       "      <td>62.991888</td>\n",
       "      <td>66.787742</td>\n",
       "      <td>65.251915</td>\n",
       "    </tr>\n",
       "  </tbody>\n",
       "</table>\n",
       "</div>"
      ],
      "text/plain": [
       "             mathscore  readingscore  writingscore\n",
       "ethnicgroup                                       \n",
       "group E      75.298936     74.251423     72.677060\n",
       "group D      67.666400     70.382247     70.890844\n",
       "group C      64.695723     68.438233     66.999240\n",
       "group B      64.137229     67.703366     66.376468\n",
       "group A      62.991888     66.787742     65.251915"
      ]
     },
     "metadata": {},
     "output_type": "display_data"
    }
   ],
   "source": [
    "display_stats(df,'ethnicgroup')"
   ]
  },
  {
   "cell_type": "code",
   "execution_count": 18,
   "id": "8e9e04d9",
   "metadata": {},
   "outputs": [
    {
     "data": {
      "text/html": [
       "<div>\n",
       "<style scoped>\n",
       "    .dataframe tbody tr th:only-of-type {\n",
       "        vertical-align: middle;\n",
       "    }\n",
       "\n",
       "    .dataframe tbody tr th {\n",
       "        vertical-align: top;\n",
       "    }\n",
       "\n",
       "    .dataframe thead th {\n",
       "        text-align: right;\n",
       "    }\n",
       "</style>\n",
       "<table border=\"1\" class=\"dataframe\">\n",
       "  <thead>\n",
       "    <tr style=\"text-align: right;\">\n",
       "      <th></th>\n",
       "      <th>parenteduc (count)</th>\n",
       "      <th>parenteduc (%)</th>\n",
       "    </tr>\n",
       "  </thead>\n",
       "  <tbody>\n",
       "    <tr>\n",
       "      <th>some high school</th>\n",
       "      <td>7362</td>\n",
       "      <td>24.026631</td>\n",
       "    </tr>\n",
       "    <tr>\n",
       "      <th>some college</th>\n",
       "      <td>6633</td>\n",
       "      <td>21.647466</td>\n",
       "    </tr>\n",
       "    <tr>\n",
       "      <th>high school</th>\n",
       "      <td>5687</td>\n",
       "      <td>18.560099</td>\n",
       "    </tr>\n",
       "    <tr>\n",
       "      <th>associate's degree</th>\n",
       "      <td>5550</td>\n",
       "      <td>18.112986</td>\n",
       "    </tr>\n",
       "    <tr>\n",
       "      <th>bachelor's degree</th>\n",
       "      <td>3386</td>\n",
       "      <td>11.050553</td>\n",
       "    </tr>\n",
       "    <tr>\n",
       "      <th>master's degree</th>\n",
       "      <td>2023</td>\n",
       "      <td>6.602265</td>\n",
       "    </tr>\n",
       "  </tbody>\n",
       "</table>\n",
       "</div>"
      ],
      "text/plain": [
       "                    parenteduc (count)  parenteduc (%)\n",
       "some high school                  7362       24.026631\n",
       "some college                      6633       21.647466\n",
       "high school                       5687       18.560099\n",
       "associate's degree                5550       18.112986\n",
       "bachelor's degree                 3386       11.050553\n",
       "master's degree                   2023        6.602265"
      ]
     },
     "metadata": {},
     "output_type": "display_data"
    },
    {
     "data": {
      "text/html": [
       "<div>\n",
       "<style scoped>\n",
       "    .dataframe tbody tr th:only-of-type {\n",
       "        vertical-align: middle;\n",
       "    }\n",
       "\n",
       "    .dataframe tbody tr th {\n",
       "        vertical-align: top;\n",
       "    }\n",
       "\n",
       "    .dataframe thead th {\n",
       "        text-align: right;\n",
       "    }\n",
       "</style>\n",
       "<table border=\"1\" class=\"dataframe\">\n",
       "  <thead>\n",
       "    <tr style=\"text-align: right;\">\n",
       "      <th></th>\n",
       "      <th>mathscore</th>\n",
       "      <th>readingscore</th>\n",
       "      <th>writingscore</th>\n",
       "    </tr>\n",
       "    <tr>\n",
       "      <th>parenteduc</th>\n",
       "      <th></th>\n",
       "      <th></th>\n",
       "      <th></th>\n",
       "    </tr>\n",
       "  </thead>\n",
       "  <tbody>\n",
       "    <tr>\n",
       "      <th>master's degree</th>\n",
       "      <td>72.336134</td>\n",
       "      <td>75.832921</td>\n",
       "      <td>76.356896</td>\n",
       "    </tr>\n",
       "    <tr>\n",
       "      <th>bachelor's degree</th>\n",
       "      <td>70.466627</td>\n",
       "      <td>73.062020</td>\n",
       "      <td>73.331069</td>\n",
       "    </tr>\n",
       "    <tr>\n",
       "      <th>associate's degree</th>\n",
       "      <td>68.365586</td>\n",
       "      <td>71.124324</td>\n",
       "      <td>70.299099</td>\n",
       "    </tr>\n",
       "    <tr>\n",
       "      <th>some college</th>\n",
       "      <td>66.390472</td>\n",
       "      <td>69.179708</td>\n",
       "      <td>68.501432</td>\n",
       "    </tr>\n",
       "    <tr>\n",
       "      <th>high school</th>\n",
       "      <td>64.435731</td>\n",
       "      <td>67.213997</td>\n",
       "      <td>65.421136</td>\n",
       "    </tr>\n",
       "    <tr>\n",
       "      <th>some high school</th>\n",
       "      <td>63.601874</td>\n",
       "      <td>66.441728</td>\n",
       "      <td>64.801141</td>\n",
       "    </tr>\n",
       "  </tbody>\n",
       "</table>\n",
       "</div>"
      ],
      "text/plain": [
       "                    mathscore  readingscore  writingscore\n",
       "parenteduc                                               \n",
       "master's degree     72.336134     75.832921     76.356896\n",
       "bachelor's degree   70.466627     73.062020     73.331069\n",
       "associate's degree  68.365586     71.124324     70.299099\n",
       "some college        66.390472     69.179708     68.501432\n",
       "high school         64.435731     67.213997     65.421136\n",
       "some high school    63.601874     66.441728     64.801141"
      ]
     },
     "metadata": {},
     "output_type": "display_data"
    },
    {
     "data": {
      "image/png": "[encoded data removed]",
      "text/plain": [
       "<Figure size 1200x800 with 1 Axes>"
      ]
     },
     "metadata": {},
     "output_type": "display_data"
    }
   ],
   "source": [
    "#To explore parent education on the score 3 subjects\n",
    "sns.countplot(x = df['parenteduc'], order=['some college', 'high school', 'associate\\'s degree', 'some high school', 'bachelor\\'s degree', 'master\\'s degree'])\n",
    "plt.title('Distribution of Students bt Parent Education');\n",
    "display_stats(df,'parenteduc')"
   ]
  },
  {
   "cell_type": "code",
   "execution_count": 19,
   "id": "19ae9228",
   "metadata": {},
   "outputs": [
    {
     "data": {
      "image/png": "[encoded data removed]",
      "text/plain": [
       "<Figure size 1200x800 with 1 Axes>"
      ]
     },
     "metadata": {},
     "output_type": "display_data"
    }
   ],
   "source": [
    "#Exploring Lunch Type\n",
    "sns.countplot(x = df['lunchtype'])\n",
    "plt.title('Students Lunch Type');"
   ]
  },
  {
   "cell_type": "code",
   "execution_count": 20,
   "id": "da91d477",
   "metadata": {},
   "outputs": [
    {
     "data": {
      "text/html": [
       "<div>\n",
       "<style scoped>\n",
       "    .dataframe tbody tr th:only-of-type {\n",
       "        vertical-align: middle;\n",
       "    }\n",
       "\n",
       "    .dataframe tbody tr th {\n",
       "        vertical-align: top;\n",
       "    }\n",
       "\n",
       "    .dataframe thead th {\n",
       "        text-align: right;\n",
       "    }\n",
       "</style>\n",
       "<table border=\"1\" class=\"dataframe\">\n",
       "  <thead>\n",
       "    <tr style=\"text-align: right;\">\n",
       "      <th></th>\n",
       "      <th>lunchtype (count)</th>\n",
       "      <th>lunchtype (%)</th>\n",
       "    </tr>\n",
       "  </thead>\n",
       "  <tbody>\n",
       "    <tr>\n",
       "      <th>standard</th>\n",
       "      <td>19905</td>\n",
       "      <td>64.961979</td>\n",
       "    </tr>\n",
       "    <tr>\n",
       "      <th>free/reduced</th>\n",
       "      <td>10736</td>\n",
       "      <td>35.038021</td>\n",
       "    </tr>\n",
       "  </tbody>\n",
       "</table>\n",
       "</div>"
      ],
      "text/plain": [
       "              lunchtype (count)  lunchtype (%)\n",
       "standard                  19905      64.961979\n",
       "free/reduced              10736      35.038021"
      ]
     },
     "metadata": {},
     "output_type": "display_data"
    },
    {
     "data": {
      "text/html": [
       "<div>\n",
       "<style scoped>\n",
       "    .dataframe tbody tr th:only-of-type {\n",
       "        vertical-align: middle;\n",
       "    }\n",
       "\n",
       "    .dataframe tbody tr th {\n",
       "        vertical-align: top;\n",
       "    }\n",
       "\n",
       "    .dataframe thead th {\n",
       "        text-align: right;\n",
       "    }\n",
       "</style>\n",
       "<table border=\"1\" class=\"dataframe\">\n",
       "  <thead>\n",
       "    <tr style=\"text-align: right;\">\n",
       "      <th></th>\n",
       "      <th>mathscore</th>\n",
       "      <th>readingscore</th>\n",
       "      <th>writingscore</th>\n",
       "    </tr>\n",
       "    <tr>\n",
       "      <th>lunchtype</th>\n",
       "      <th></th>\n",
       "      <th></th>\n",
       "      <th></th>\n",
       "    </tr>\n",
       "  </thead>\n",
       "  <tbody>\n",
       "    <tr>\n",
       "      <th>standard</th>\n",
       "      <td>70.709370</td>\n",
       "      <td>72.175634</td>\n",
       "      <td>71.529716</td>\n",
       "    </tr>\n",
       "    <tr>\n",
       "      <th>free/reduced</th>\n",
       "      <td>58.862332</td>\n",
       "      <td>64.189735</td>\n",
       "      <td>62.650522</td>\n",
       "    </tr>\n",
       "  </tbody>\n",
       "</table>\n",
       "</div>"
      ],
      "text/plain": [
       "              mathscore  readingscore  writingscore\n",
       "lunchtype                                          \n",
       "standard      70.709370     72.175634     71.529716\n",
       "free/reduced  58.862332     64.189735     62.650522"
      ]
     },
     "metadata": {},
     "output_type": "display_data"
    }
   ],
   "source": [
    "#To exploreLunch Type on the score 3 subjects\n",
    "\n",
    "display_stats(df,'lunchtype')"
   ]
  },
  {
   "cell_type": "code",
   "execution_count": 21,
   "id": "2e4a7a07",
   "metadata": {},
   "outputs": [
    {
     "data": {
      "text/html": [
       "<div>\n",
       "<style scoped>\n",
       "    .dataframe tbody tr th:only-of-type {\n",
       "        vertical-align: middle;\n",
       "    }\n",
       "\n",
       "    .dataframe tbody tr th {\n",
       "        vertical-align: top;\n",
       "    }\n",
       "\n",
       "    .dataframe thead th {\n",
       "        text-align: right;\n",
       "    }\n",
       "</style>\n",
       "<table border=\"1\" class=\"dataframe\">\n",
       "  <thead>\n",
       "    <tr style=\"text-align: right;\">\n",
       "      <th></th>\n",
       "      <th>testprep (count)</th>\n",
       "      <th>testprep (%)</th>\n",
       "    </tr>\n",
       "  </thead>\n",
       "  <tbody>\n",
       "    <tr>\n",
       "      <th>none</th>\n",
       "      <td>18856</td>\n",
       "      <td>61.538462</td>\n",
       "    </tr>\n",
       "    <tr>\n",
       "      <th>completed</th>\n",
       "      <td>11785</td>\n",
       "      <td>38.461538</td>\n",
       "    </tr>\n",
       "  </tbody>\n",
       "</table>\n",
       "</div>"
      ],
      "text/plain": [
       "           testprep (count)  testprep (%)\n",
       "none                  18856     61.538462\n",
       "completed             11785     38.461538"
      ]
     },
     "metadata": {},
     "output_type": "display_data"
    },
    {
     "data": {
      "text/html": [
       "<div>\n",
       "<style scoped>\n",
       "    .dataframe tbody tr th:only-of-type {\n",
       "        vertical-align: middle;\n",
       "    }\n",
       "\n",
       "    .dataframe tbody tr th {\n",
       "        vertical-align: top;\n",
       "    }\n",
       "\n",
       "    .dataframe thead th {\n",
       "        text-align: right;\n",
       "    }\n",
       "</style>\n",
       "<table border=\"1\" class=\"dataframe\">\n",
       "  <thead>\n",
       "    <tr style=\"text-align: right;\">\n",
       "      <th></th>\n",
       "      <th>mathscore</th>\n",
       "      <th>readingscore</th>\n",
       "      <th>writingscore</th>\n",
       "    </tr>\n",
       "    <tr>\n",
       "      <th>testprep</th>\n",
       "      <th></th>\n",
       "      <th></th>\n",
       "      <th></th>\n",
       "    </tr>\n",
       "  </thead>\n",
       "  <tbody>\n",
       "    <tr>\n",
       "      <th>completed</th>\n",
       "      <td>69.133814</td>\n",
       "      <td>73.099873</td>\n",
       "      <td>73.740008</td>\n",
       "    </tr>\n",
       "    <tr>\n",
       "      <th>none</th>\n",
       "      <td>64.948770</td>\n",
       "      <td>67.051071</td>\n",
       "      <td>65.092756</td>\n",
       "    </tr>\n",
       "  </tbody>\n",
       "</table>\n",
       "</div>"
      ],
      "text/plain": [
       "           mathscore  readingscore  writingscore\n",
       "testprep                                        \n",
       "completed  69.133814     73.099873     73.740008\n",
       "none       64.948770     67.051071     65.092756"
      ]
     },
     "metadata": {},
     "output_type": "display_data"
    },
    {
     "data": {
      "image/png": "[encoded data removed]",
      "text/plain": [
       "<Figure size 1200x800 with 1 Axes>"
      ]
     },
     "metadata": {},
     "output_type": "display_data"
    }
   ],
   "source": [
    "#To Explore test preperation on the score of the 3 subjects\n",
    "sns.countplot(x = df['testprep'])\n",
    "plt.title('Students Test Preperation');\n",
    "display_stats(df,'testprep')"
   ]
  },
  {
   "cell_type": "code",
   "execution_count": 22,
   "id": "0f64587c",
   "metadata": {},
   "outputs": [
    {
     "data": {
      "text/html": [
       "<div>\n",
       "<style scoped>\n",
       "    .dataframe tbody tr th:only-of-type {\n",
       "        vertical-align: middle;\n",
       "    }\n",
       "\n",
       "    .dataframe tbody tr th {\n",
       "        vertical-align: top;\n",
       "    }\n",
       "\n",
       "    .dataframe thead th {\n",
       "        text-align: right;\n",
       "    }\n",
       "</style>\n",
       "<table border=\"1\" class=\"dataframe\">\n",
       "  <thead>\n",
       "    <tr style=\"text-align: right;\">\n",
       "      <th></th>\n",
       "      <th>parentmaritalstatus (count)</th>\n",
       "      <th>parentmaritalstatus (%)</th>\n",
       "    </tr>\n",
       "  </thead>\n",
       "  <tbody>\n",
       "    <tr>\n",
       "      <th>married</th>\n",
       "      <td>18034</td>\n",
       "      <td>58.855781</td>\n",
       "    </tr>\n",
       "    <tr>\n",
       "      <th>single</th>\n",
       "      <td>7097</td>\n",
       "      <td>23.161777</td>\n",
       "    </tr>\n",
       "    <tr>\n",
       "      <th>divorced</th>\n",
       "      <td>4919</td>\n",
       "      <td>16.053654</td>\n",
       "    </tr>\n",
       "    <tr>\n",
       "      <th>widowed</th>\n",
       "      <td>591</td>\n",
       "      <td>1.928788</td>\n",
       "    </tr>\n",
       "  </tbody>\n",
       "</table>\n",
       "</div>"
      ],
      "text/plain": [
       "          parentmaritalstatus (count)  parentmaritalstatus (%)\n",
       "married                         18034                58.855781\n",
       "single                           7097                23.161777\n",
       "divorced                         4919                16.053654\n",
       "widowed                           591                 1.928788"
      ]
     },
     "metadata": {},
     "output_type": "display_data"
    },
    {
     "data": {
      "text/html": [
       "<div>\n",
       "<style scoped>\n",
       "    .dataframe tbody tr th:only-of-type {\n",
       "        vertical-align: middle;\n",
       "    }\n",
       "\n",
       "    .dataframe tbody tr th {\n",
       "        vertical-align: top;\n",
       "    }\n",
       "\n",
       "    .dataframe thead th {\n",
       "        text-align: right;\n",
       "    }\n",
       "</style>\n",
       "<table border=\"1\" class=\"dataframe\">\n",
       "  <thead>\n",
       "    <tr style=\"text-align: right;\">\n",
       "      <th></th>\n",
       "      <th>mathscore</th>\n",
       "      <th>readingscore</th>\n",
       "      <th>writingscore</th>\n",
       "    </tr>\n",
       "    <tr>\n",
       "      <th>parentmaritalstatus</th>\n",
       "      <th></th>\n",
       "      <th></th>\n",
       "      <th></th>\n",
       "    </tr>\n",
       "  </thead>\n",
       "  <tbody>\n",
       "    <tr>\n",
       "      <th>widowed</th>\n",
       "      <td>67.368866</td>\n",
       "      <td>69.651438</td>\n",
       "      <td>68.563452</td>\n",
       "    </tr>\n",
       "    <tr>\n",
       "      <th>divorced</th>\n",
       "      <td>66.691197</td>\n",
       "      <td>69.655011</td>\n",
       "      <td>68.799146</td>\n",
       "    </tr>\n",
       "    <tr>\n",
       "      <th>married</th>\n",
       "      <td>66.650161</td>\n",
       "      <td>69.379561</td>\n",
       "      <td>68.406177</td>\n",
       "    </tr>\n",
       "    <tr>\n",
       "      <th>single</th>\n",
       "      <td>66.165704</td>\n",
       "      <td>69.157250</td>\n",
       "      <td>68.174440</td>\n",
       "    </tr>\n",
       "  </tbody>\n",
       "</table>\n",
       "</div>"
      ],
      "text/plain": [
       "                     mathscore  readingscore  writingscore\n",
       "parentmaritalstatus                                       \n",
       "widowed              67.368866     69.651438     68.563452\n",
       "divorced             66.691197     69.655011     68.799146\n",
       "married              66.650161     69.379561     68.406177\n",
       "single               66.165704     69.157250     68.174440"
      ]
     },
     "metadata": {},
     "output_type": "display_data"
    },
    {
     "data": {
      "image/png": "[encoded data removed]",
      "text/plain": [
       "<Figure size 1200x800 with 1 Axes>"
      ]
     },
     "metadata": {},
     "output_type": "display_data"
    }
   ],
   "source": [
    "#To Explore parentmaritalstatus on the score 3 subjects\n",
    "sns.countplot(x = df['parentmaritalstatus'])\n",
    "plt.title('parentmaritalstatus');\n",
    "display_stats(df,'parentmaritalstatus')"
   ]
  },
  {
   "cell_type": "code",
   "execution_count": 23,
   "id": "54189cc7",
   "metadata": {},
   "outputs": [
    {
     "data": {
      "text/html": [
       "<div>\n",
       "<style scoped>\n",
       "    .dataframe tbody tr th:only-of-type {\n",
       "        vertical-align: middle;\n",
       "    }\n",
       "\n",
       "    .dataframe tbody tr th {\n",
       "        vertical-align: top;\n",
       "    }\n",
       "\n",
       "    .dataframe thead th {\n",
       "        text-align: right;\n",
       "    }\n",
       "</style>\n",
       "<table border=\"1\" class=\"dataframe\">\n",
       "  <thead>\n",
       "    <tr style=\"text-align: right;\">\n",
       "      <th></th>\n",
       "      <th>practicesport (count)</th>\n",
       "      <th>practicesport (%)</th>\n",
       "    </tr>\n",
       "  </thead>\n",
       "  <tbody>\n",
       "    <tr>\n",
       "      <th>sometimes</th>\n",
       "      <td>15213</td>\n",
       "      <td>49.649163</td>\n",
       "    </tr>\n",
       "    <tr>\n",
       "      <th>regularly</th>\n",
       "      <td>11424</td>\n",
       "      <td>37.283378</td>\n",
       "    </tr>\n",
       "    <tr>\n",
       "      <th>never</th>\n",
       "      <td>4004</td>\n",
       "      <td>13.067459</td>\n",
       "    </tr>\n",
       "  </tbody>\n",
       "</table>\n",
       "</div>"
      ],
      "text/plain": [
       "           practicesport (count)  practicesport (%)\n",
       "sometimes                  15213          49.649163\n",
       "regularly                  11424          37.283378\n",
       "never                       4004          13.067459"
      ]
     },
     "metadata": {},
     "output_type": "display_data"
    },
    {
     "data": {
      "text/html": [
       "<div>\n",
       "<style scoped>\n",
       "    .dataframe tbody tr th:only-of-type {\n",
       "        vertical-align: middle;\n",
       "    }\n",
       "\n",
       "    .dataframe tbody tr th {\n",
       "        vertical-align: top;\n",
       "    }\n",
       "\n",
       "    .dataframe thead th {\n",
       "        text-align: right;\n",
       "    }\n",
       "</style>\n",
       "<table border=\"1\" class=\"dataframe\">\n",
       "  <thead>\n",
       "    <tr style=\"text-align: right;\">\n",
       "      <th></th>\n",
       "      <th>mathscore</th>\n",
       "      <th>readingscore</th>\n",
       "      <th>writingscore</th>\n",
       "    </tr>\n",
       "    <tr>\n",
       "      <th>practicesport</th>\n",
       "      <th></th>\n",
       "      <th></th>\n",
       "      <th></th>\n",
       "    </tr>\n",
       "  </thead>\n",
       "  <tbody>\n",
       "    <tr>\n",
       "      <th>regularly</th>\n",
       "      <td>67.772759</td>\n",
       "      <td>69.923407</td>\n",
       "      <td>69.544118</td>\n",
       "    </tr>\n",
       "    <tr>\n",
       "      <th>sometimes</th>\n",
       "      <td>66.274831</td>\n",
       "      <td>69.241307</td>\n",
       "      <td>68.072438</td>\n",
       "    </tr>\n",
       "    <tr>\n",
       "      <th>never</th>\n",
       "      <td>64.171079</td>\n",
       "      <td>68.337662</td>\n",
       "      <td>66.522727</td>\n",
       "    </tr>\n",
       "  </tbody>\n",
       "</table>\n",
       "</div>"
      ],
      "text/plain": [
       "               mathscore  readingscore  writingscore\n",
       "practicesport                                       \n",
       "regularly      67.772759     69.923407     69.544118\n",
       "sometimes      66.274831     69.241307     68.072438\n",
       "never          64.171079     68.337662     66.522727"
      ]
     },
     "metadata": {},
     "output_type": "display_data"
    },
    {
     "data": {
      "image/png": "[encoded data removed]",
      "text/plain": [
       "<Figure size 1200x800 with 1 Axes>"
      ]
     },
     "metadata": {},
     "output_type": "display_data"
    }
   ],
   "source": [
    "#To Explore practice in sport on the score 3 subjects\n",
    "sns.countplot(x = df['practicesport'], order = ['sometimes','regularly', 'never'])\n",
    "plt.title('Students practicesport');\n",
    "display_stats(df,'practicesport')"
   ]
  },
  {
   "cell_type": "code",
   "execution_count": 24,
   "id": "0461a5c1",
   "metadata": {},
   "outputs": [
    {
     "data": {
      "text/html": [
       "<div>\n",
       "<style scoped>\n",
       "    .dataframe tbody tr th:only-of-type {\n",
       "        vertical-align: middle;\n",
       "    }\n",
       "\n",
       "    .dataframe tbody tr th {\n",
       "        vertical-align: top;\n",
       "    }\n",
       "\n",
       "    .dataframe thead th {\n",
       "        text-align: right;\n",
       "    }\n",
       "</style>\n",
       "<table border=\"1\" class=\"dataframe\">\n",
       "  <thead>\n",
       "    <tr style=\"text-align: right;\">\n",
       "      <th></th>\n",
       "      <th>isfirstchild (count)</th>\n",
       "      <th>isfirstchild (%)</th>\n",
       "    </tr>\n",
       "  </thead>\n",
       "  <tbody>\n",
       "    <tr>\n",
       "      <th>yes</th>\n",
       "      <td>19082</td>\n",
       "      <td>62.276035</td>\n",
       "    </tr>\n",
       "    <tr>\n",
       "      <th>no</th>\n",
       "      <td>10655</td>\n",
       "      <td>34.773669</td>\n",
       "    </tr>\n",
       "    <tr>\n",
       "      <th>TRUE</th>\n",
       "      <td>904</td>\n",
       "      <td>2.950295</td>\n",
       "    </tr>\n",
       "  </tbody>\n",
       "</table>\n",
       "</div>"
      ],
      "text/plain": [
       "      isfirstchild (count)  isfirstchild (%)\n",
       "yes                  19082         62.276035\n",
       "no                   10655         34.773669\n",
       "TRUE                   904          2.950295"
      ]
     },
     "metadata": {},
     "output_type": "display_data"
    },
    {
     "data": {
      "text/html": [
       "<div>\n",
       "<style scoped>\n",
       "    .dataframe tbody tr th:only-of-type {\n",
       "        vertical-align: middle;\n",
       "    }\n",
       "\n",
       "    .dataframe tbody tr th {\n",
       "        vertical-align: top;\n",
       "    }\n",
       "\n",
       "    .dataframe thead th {\n",
       "        text-align: right;\n",
       "    }\n",
       "</style>\n",
       "<table border=\"1\" class=\"dataframe\">\n",
       "  <thead>\n",
       "    <tr style=\"text-align: right;\">\n",
       "      <th></th>\n",
       "      <th>mathscore</th>\n",
       "      <th>readingscore</th>\n",
       "      <th>writingscore</th>\n",
       "    </tr>\n",
       "    <tr>\n",
       "      <th>isfirstchild</th>\n",
       "      <th></th>\n",
       "      <th></th>\n",
       "      <th></th>\n",
       "    </tr>\n",
       "  </thead>\n",
       "  <tbody>\n",
       "    <tr>\n",
       "      <th>yes</th>\n",
       "      <td>66.740646</td>\n",
       "      <td>69.542553</td>\n",
       "      <td>68.558484</td>\n",
       "    </tr>\n",
       "    <tr>\n",
       "      <th>TRUE</th>\n",
       "      <td>66.383850</td>\n",
       "      <td>68.780973</td>\n",
       "      <td>67.914823</td>\n",
       "    </tr>\n",
       "    <tr>\n",
       "      <th>no</th>\n",
       "      <td>66.246832</td>\n",
       "      <td>69.132614</td>\n",
       "      <td>68.210887</td>\n",
       "    </tr>\n",
       "  </tbody>\n",
       "</table>\n",
       "</div>"
      ],
      "text/plain": [
       "              mathscore  readingscore  writingscore\n",
       "isfirstchild                                       \n",
       "yes           66.740646     69.542553     68.558484\n",
       "TRUE          66.383850     68.780973     67.914823\n",
       "no            66.246832     69.132614     68.210887"
      ]
     },
     "metadata": {},
     "output_type": "display_data"
    },
    {
     "data": {
      "image/png": "[encoded data removed]",
      "text/plain": [
       "<Figure size 1200x800 with 1 Axes>"
      ]
     },
     "metadata": {},
     "output_type": "display_data"
    }
   ],
   "source": [
    "#To Explore being first child on the score of the 3 subjects\n",
    "sns.countplot(x = df['isfirstchild'])\n",
    "plt.title('Students isfirstchild');\n",
    "display_stats(df,'isfirstchild')"
   ]
  },
  {
   "cell_type": "code",
   "execution_count": 25,
   "id": "7a2e768a",
   "metadata": {},
   "outputs": [
    {
     "data": {
      "text/html": [
       "<div>\n",
       "<style scoped>\n",
       "    .dataframe tbody tr th:only-of-type {\n",
       "        vertical-align: middle;\n",
       "    }\n",
       "\n",
       "    .dataframe tbody tr th {\n",
       "        vertical-align: top;\n",
       "    }\n",
       "\n",
       "    .dataframe thead th {\n",
       "        text-align: right;\n",
       "    }\n",
       "</style>\n",
       "<table border=\"1\" class=\"dataframe\">\n",
       "  <thead>\n",
       "    <tr style=\"text-align: right;\">\n",
       "      <th></th>\n",
       "      <th>nrsiblings (count)</th>\n",
       "      <th>nrsiblings (%)</th>\n",
       "    </tr>\n",
       "  </thead>\n",
       "  <tbody>\n",
       "    <tr>\n",
       "      <th>2</th>\n",
       "      <td>8362</td>\n",
       "      <td>27.290232</td>\n",
       "    </tr>\n",
       "    <tr>\n",
       "      <th>1</th>\n",
       "      <td>8217</td>\n",
       "      <td>26.81701</td>\n",
       "    </tr>\n",
       "    <tr>\n",
       "      <th>3</th>\n",
       "      <td>6123</td>\n",
       "      <td>19.983029</td>\n",
       "    </tr>\n",
       "    <tr>\n",
       "      <th>0</th>\n",
       "      <td>3085</td>\n",
       "      <td>10.068209</td>\n",
       "    </tr>\n",
       "    <tr>\n",
       "      <th>4</th>\n",
       "      <td>2941</td>\n",
       "      <td>9.598251</td>\n",
       "    </tr>\n",
       "    <tr>\n",
       "      <th>5</th>\n",
       "      <td>1320</td>\n",
       "      <td>4.307953</td>\n",
       "    </tr>\n",
       "    <tr>\n",
       "      <th>6</th>\n",
       "      <td>302</td>\n",
       "      <td>0.985608</td>\n",
       "    </tr>\n",
       "    <tr>\n",
       "      <th>7</th>\n",
       "      <td>291</td>\n",
       "      <td>0.949708</td>\n",
       "    </tr>\n",
       "  </tbody>\n",
       "</table>\n",
       "</div>"
      ],
      "text/plain": [
       "   nrsiblings (count)  nrsiblings (%)\n",
       "2                8362       27.290232\n",
       "1                8217        26.81701\n",
       "3                6123       19.983029\n",
       "0                3085       10.068209\n",
       "4                2941        9.598251\n",
       "5                1320        4.307953\n",
       "6                 302        0.985608\n",
       "7                 291        0.949708"
      ]
     },
     "metadata": {},
     "output_type": "display_data"
    },
    {
     "data": {
      "text/html": [
       "<div>\n",
       "<style scoped>\n",
       "    .dataframe tbody tr th:only-of-type {\n",
       "        vertical-align: middle;\n",
       "    }\n",
       "\n",
       "    .dataframe tbody tr th {\n",
       "        vertical-align: top;\n",
       "    }\n",
       "\n",
       "    .dataframe thead th {\n",
       "        text-align: right;\n",
       "    }\n",
       "</style>\n",
       "<table border=\"1\" class=\"dataframe\">\n",
       "  <thead>\n",
       "    <tr style=\"text-align: right;\">\n",
       "      <th></th>\n",
       "      <th>mathscore</th>\n",
       "      <th>readingscore</th>\n",
       "      <th>writingscore</th>\n",
       "    </tr>\n",
       "    <tr>\n",
       "      <th>nrsiblings</th>\n",
       "      <th></th>\n",
       "      <th></th>\n",
       "      <th></th>\n",
       "    </tr>\n",
       "  </thead>\n",
       "  <tbody>\n",
       "    <tr>\n",
       "      <th>7</th>\n",
       "      <td>67.615120</td>\n",
       "      <td>69.828179</td>\n",
       "      <td>68.986254</td>\n",
       "    </tr>\n",
       "    <tr>\n",
       "      <th>0</th>\n",
       "      <td>66.819449</td>\n",
       "      <td>69.547812</td>\n",
       "      <td>68.746515</td>\n",
       "    </tr>\n",
       "    <tr>\n",
       "      <th>3</th>\n",
       "      <td>66.719092</td>\n",
       "      <td>69.488159</td>\n",
       "      <td>68.650498</td>\n",
       "    </tr>\n",
       "    <tr>\n",
       "      <th>5</th>\n",
       "      <td>66.630303</td>\n",
       "      <td>69.453788</td>\n",
       "      <td>68.282576</td>\n",
       "    </tr>\n",
       "    <tr>\n",
       "      <th>2</th>\n",
       "      <td>66.512557</td>\n",
       "      <td>69.425257</td>\n",
       "      <td>68.441402</td>\n",
       "    </tr>\n",
       "    <tr>\n",
       "      <th>1</th>\n",
       "      <td>66.473896</td>\n",
       "      <td>69.259097</td>\n",
       "      <td>68.245345</td>\n",
       "    </tr>\n",
       "    <tr>\n",
       "      <th>4</th>\n",
       "      <td>66.245495</td>\n",
       "      <td>69.144169</td>\n",
       "      <td>68.073444</td>\n",
       "    </tr>\n",
       "    <tr>\n",
       "      <th>6</th>\n",
       "      <td>65.917219</td>\n",
       "      <td>68.801325</td>\n",
       "      <td>67.860927</td>\n",
       "    </tr>\n",
       "  </tbody>\n",
       "</table>\n",
       "</div>"
      ],
      "text/plain": [
       "            mathscore  readingscore  writingscore\n",
       "nrsiblings                                       \n",
       "7           67.615120     69.828179     68.986254\n",
       "0           66.819449     69.547812     68.746515\n",
       "3           66.719092     69.488159     68.650498\n",
       "5           66.630303     69.453788     68.282576\n",
       "2           66.512557     69.425257     68.441402\n",
       "1           66.473896     69.259097     68.245345\n",
       "4           66.245495     69.144169     68.073444\n",
       "6           65.917219     68.801325     67.860927"
      ]
     },
     "metadata": {},
     "output_type": "display_data"
    },
    {
     "data": {
      "image/png": "[encoded data removed]",
      "text/plain": [
       "<Figure size 1200x800 with 1 Axes>"
      ]
     },
     "metadata": {},
     "output_type": "display_data"
    }
   ],
   "source": [
    "#To Explore number of siblings on the score of the 3 subjects\n",
    "sns.countplot(x = df['nrsiblings'], order = [2, 1, 3, 0, 4, 5, 6, 7])\n",
    "plt.title('Students nrsiblings');\n",
    "display_stats(df,'nrsiblings')"
   ]
  },
  {
   "cell_type": "code",
   "execution_count": 26,
   "id": "41ef09e4",
   "metadata": {},
   "outputs": [
    {
     "data": {
      "text/html": [
       "<div>\n",
       "<style scoped>\n",
       "    .dataframe tbody tr th:only-of-type {\n",
       "        vertical-align: middle;\n",
       "    }\n",
       "\n",
       "    .dataframe tbody tr th {\n",
       "        vertical-align: top;\n",
       "    }\n",
       "\n",
       "    .dataframe thead th {\n",
       "        text-align: right;\n",
       "    }\n",
       "</style>\n",
       "<table border=\"1\" class=\"dataframe\">\n",
       "  <thead>\n",
       "    <tr style=\"text-align: right;\">\n",
       "      <th></th>\n",
       "      <th>transportmeans (count)</th>\n",
       "      <th>transportmeans (%)</th>\n",
       "    </tr>\n",
       "  </thead>\n",
       "  <tbody>\n",
       "    <tr>\n",
       "      <th>school_bus</th>\n",
       "      <td>16145</td>\n",
       "      <td>52.690839</td>\n",
       "    </tr>\n",
       "    <tr>\n",
       "      <th>private</th>\n",
       "      <td>14496</td>\n",
       "      <td>47.309161</td>\n",
       "    </tr>\n",
       "  </tbody>\n",
       "</table>\n",
       "</div>"
      ],
      "text/plain": [
       "            transportmeans (count)  transportmeans (%)\n",
       "school_bus                   16145           52.690839\n",
       "private                      14496           47.309161"
      ]
     },
     "metadata": {},
     "output_type": "display_data"
    },
    {
     "data": {
      "text/html": [
       "<div>\n",
       "<style scoped>\n",
       "    .dataframe tbody tr th:only-of-type {\n",
       "        vertical-align: middle;\n",
       "    }\n",
       "\n",
       "    .dataframe tbody tr th {\n",
       "        vertical-align: top;\n",
       "    }\n",
       "\n",
       "    .dataframe thead th {\n",
       "        text-align: right;\n",
       "    }\n",
       "</style>\n",
       "<table border=\"1\" class=\"dataframe\">\n",
       "  <thead>\n",
       "    <tr style=\"text-align: right;\">\n",
       "      <th></th>\n",
       "      <th>mathscore</th>\n",
       "      <th>readingscore</th>\n",
       "      <th>writingscore</th>\n",
       "    </tr>\n",
       "    <tr>\n",
       "      <th>transportmeans</th>\n",
       "      <th></th>\n",
       "      <th></th>\n",
       "      <th></th>\n",
       "    </tr>\n",
       "  </thead>\n",
       "  <tbody>\n",
       "    <tr>\n",
       "      <th>school_bus</th>\n",
       "      <td>66.674636</td>\n",
       "      <td>69.446206</td>\n",
       "      <td>68.492351</td>\n",
       "    </tr>\n",
       "    <tr>\n",
       "      <th>private</th>\n",
       "      <td>66.428946</td>\n",
       "      <td>69.301049</td>\n",
       "      <td>68.336507</td>\n",
       "    </tr>\n",
       "  </tbody>\n",
       "</table>\n",
       "</div>"
      ],
      "text/plain": [
       "                mathscore  readingscore  writingscore\n",
       "transportmeans                                       \n",
       "school_bus      66.674636     69.446206     68.492351\n",
       "private         66.428946     69.301049     68.336507"
      ]
     },
     "metadata": {},
     "output_type": "display_data"
    },
    {
     "data": {
      "image/png": "[encoded data removed]",
      "text/plain": [
       "<Figure size 1200x800 with 1 Axes>"
      ]
     },
     "metadata": {},
     "output_type": "display_data"
    }
   ],
   "source": [
    "#To Explore transport means on the score of the 3 subjects\n",
    "sns.countplot(x = df['transportmeans'])\n",
    "plt.title('Students transportmeans');\n",
    "display_stats(df,'transportmeans')"
   ]
  },
  {
   "cell_type": "code",
   "execution_count": 27,
   "id": "706de81b",
   "metadata": {},
   "outputs": [
    {
     "data": {
      "text/html": [
       "<div>\n",
       "<style scoped>\n",
       "    .dataframe tbody tr th:only-of-type {\n",
       "        vertical-align: middle;\n",
       "    }\n",
       "\n",
       "    .dataframe tbody tr th {\n",
       "        vertical-align: top;\n",
       "    }\n",
       "\n",
       "    .dataframe thead th {\n",
       "        text-align: right;\n",
       "    }\n",
       "</style>\n",
       "<table border=\"1\" class=\"dataframe\">\n",
       "  <thead>\n",
       "    <tr style=\"text-align: right;\">\n",
       "      <th></th>\n",
       "      <th>wklystudyhours (count)</th>\n",
       "      <th>wklystudyhours (%)</th>\n",
       "    </tr>\n",
       "  </thead>\n",
       "  <tbody>\n",
       "    <tr>\n",
       "      <th>5-10</th>\n",
       "      <td>17201</td>\n",
       "      <td>56.137202</td>\n",
       "    </tr>\n",
       "    <tr>\n",
       "      <th>&lt; 5</th>\n",
       "      <td>8238</td>\n",
       "      <td>26.885546</td>\n",
       "    </tr>\n",
       "    <tr>\n",
       "      <th>&gt; 10</th>\n",
       "      <td>5202</td>\n",
       "      <td>16.977253</td>\n",
       "    </tr>\n",
       "  </tbody>\n",
       "</table>\n",
       "</div>"
      ],
      "text/plain": [
       "      wklystudyhours (count)  wklystudyhours (%)\n",
       "5-10                   17201           56.137202\n",
       "< 5                     8238           26.885546\n",
       "> 10                    5202           16.977253"
      ]
     },
     "metadata": {},
     "output_type": "display_data"
    },
    {
     "data": {
      "text/html": [
       "<div>\n",
       "<style scoped>\n",
       "    .dataframe tbody tr th:only-of-type {\n",
       "        vertical-align: middle;\n",
       "    }\n",
       "\n",
       "    .dataframe tbody tr th {\n",
       "        vertical-align: top;\n",
       "    }\n",
       "\n",
       "    .dataframe thead th {\n",
       "        text-align: right;\n",
       "    }\n",
       "</style>\n",
       "<table border=\"1\" class=\"dataframe\">\n",
       "  <thead>\n",
       "    <tr style=\"text-align: right;\">\n",
       "      <th></th>\n",
       "      <th>mathscore</th>\n",
       "      <th>readingscore</th>\n",
       "      <th>writingscore</th>\n",
       "    </tr>\n",
       "    <tr>\n",
       "      <th>wklystudyhours</th>\n",
       "      <th></th>\n",
       "      <th></th>\n",
       "      <th></th>\n",
       "    </tr>\n",
       "  </thead>\n",
       "  <tbody>\n",
       "    <tr>\n",
       "      <th>&gt; 10</th>\n",
       "      <td>68.696655</td>\n",
       "      <td>70.365436</td>\n",
       "      <td>69.777778</td>\n",
       "    </tr>\n",
       "    <tr>\n",
       "      <th>5-10</th>\n",
       "      <td>66.859078</td>\n",
       "      <td>69.654148</td>\n",
       "      <td>68.643800</td>\n",
       "    </tr>\n",
       "    <tr>\n",
       "      <th>&lt; 5</th>\n",
       "      <td>64.580359</td>\n",
       "      <td>68.176135</td>\n",
       "      <td>67.090192</td>\n",
       "    </tr>\n",
       "  </tbody>\n",
       "</table>\n",
       "</div>"
      ],
      "text/plain": [
       "                mathscore  readingscore  writingscore\n",
       "wklystudyhours                                       \n",
       "> 10            68.696655     70.365436     69.777778\n",
       "5-10            66.859078     69.654148     68.643800\n",
       "< 5             64.580359     68.176135     67.090192"
      ]
     },
     "metadata": {},
     "output_type": "display_data"
    },
    {
     "data": {
      "image/png": "[encoded data removed]",
      "text/plain": [
       "<Figure size 1200x800 with 1 Axes>"
      ]
     },
     "metadata": {},
     "output_type": "display_data"
    }
   ],
   "source": [
    "#To Explore wklystudyhours on the score 3 subjects\n",
    "sns.countplot(x = df['wklystudyhours'], order = ['5-10', '< 5', '> 10'])\n",
    "plt.title('Students wklystudyhours');\n",
    "display_stats(df,'wklystudyhours')"
   ]
  },
  {
   "cell_type": "code",
   "execution_count": null,
   "id": "08ac9808",
   "metadata": {},
   "outputs": [],
   "source": []
  }
 ],
 "metadata": {
  "kernelspec": {
   "display_name": "Python 3 (ipykernel)",
   "language": "python",
   "name": "python3"
  },
  "language_info": {
   "codemirror_mode": {
    "name": "ipython",
    "version": 3
   },
   "file_extension": ".py",
   "mimetype": "text/x-python",
   "name": "python",
   "nbconvert_exporter": "python",
   "pygments_lexer": "ipython3",
   "version": "3.10.9"
  }
 },
 "nbformat": 4,
 "nbformat_minor": 5
}
